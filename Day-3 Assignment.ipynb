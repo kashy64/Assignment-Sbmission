{
 "cells": [
  {
   "cell_type": "code",
   "execution_count": 1,
   "metadata": {},
   "outputs": [],
   "source": [
    "##Question 1"
   ]
  },
  {
   "cell_type": "code",
   "execution_count": 2,
   "metadata": {},
   "outputs": [
    {
     "data": {
      "text/plain": [
       "array([ 2,  5,  8, 11, 14, 17, 20, 23, 26, 29, 32, 35, 38, 41, 44, 47])"
      ]
     },
     "execution_count": 2,
     "metadata": {},
     "output_type": "execute_result"
    }
   ],
   "source": [
    "import numpy as np\n",
    "np.arange(2,50,3)"
   ]
  },
  {
   "cell_type": "code",
   "execution_count": 3,
   "metadata": {},
   "outputs": [],
   "source": [
    "##Question 2"
   ]
  },
  {
   "cell_type": "code",
   "execution_count": 5,
   "metadata": {},
   "outputs": [
    {
     "name": "stdout",
     "output_type": "stream",
     "text": [
      "\n",
      "Enter the value for m : 40\n",
      "\n",
      "Enter the value for m : 25\n",
      "\n",
      "Enter the value for m : 30\n",
      "\n",
      "Enter the value for m : 10\n",
      "\n",
      "Enter the value for m : 5\n",
      "\n",
      " m List Values are: [40, 25, 30, 10, 5]\n",
      "\n",
      "Enter the value for n : 15\n",
      "\n",
      "Enter the value for n : 45\n",
      "\n",
      "Enter the value for n : 100\n",
      "\n",
      "Enter the value for n : 250\n",
      "\n",
      "Enter the value for n : 50\n",
      "\n",
      " n List Values are: [15, 45, 100, 250, 50]\n",
      "\n",
      " Concatenated Array is : [ 40  25  30  10   5  15  45 100 250  50]\n",
      "\n",
      " Sorted Array is : [  5  10  15  25  30  40  45  50 100 250]\n"
     ]
    }
   ],
   "source": [
    "m=[]\n",
    "n=[]\n",
    "for i in range(5):\n",
    "    x=int(input(\"\\nEnter the value for m : \"))\n",
    "    m.append(x)\n",
    "print(\"\\n m List Values are:\",m)\n",
    "for i in range(5):\n",
    "    x=int(input(\"\\nEnter the value for n : \"))\n",
    "    n.append(x)\n",
    "print(\"\\n n List Values are:\",n)\n",
    "a=np.array(m)\n",
    "b=np.array(n)\n",
    "c=np.concatenate((a,b))\n",
    "print(\"\\n Concatenated Array is :\",c)\n",
    "np.sort(c)\n",
    "print(\"\\n Sorted Array is :\",np.sort(c))"
   ]
  },
  {
   "cell_type": "code",
   "execution_count": 23,
   "metadata": {},
   "outputs": [],
   "source": [
    "##Question 3"
   ]
  },
  {
   "cell_type": "code",
   "execution_count": 24,
   "metadata": {},
   "outputs": [
    {
     "name": "stdout",
     "output_type": "stream",
     "text": [
      "\n",
      "Dimensions in array :  2\n",
      "\n",
      "Size of array :  9\n"
     ]
    }
   ],
   "source": [
    "a = np.array([[1,2,3],[1,3,5],[12,15,25]])\n",
    "print(\"\\nDimensions in array : \", arr.ndim)\n",
    "print(\"\\nSize of array : \", arr.size)"
   ]
  },
  {
   "cell_type": "code",
   "execution_count": null,
   "metadata": {},
   "outputs": [],
   "source": [
    "## Question 4\n",
    "##a)np.newaxis"
   ]
  },
  {
   "cell_type": "code",
   "execution_count": 28,
   "metadata": {},
   "outputs": [
    {
     "name": "stdout",
     "output_type": "stream",
     "text": [
      "\n",
      " Shape of Array : (25,)\n",
      "\n",
      " Shape of 2D Array in row major : (1, 25)\n",
      "\n",
      " Shape of 2D Array in column major : (25, 1)\n"
     ]
    }
   ],
   "source": [
    "b = np.arange(25)\n",
    "print(\"\\n Shape of Array :\",b.shape)\n",
    "row_b = b[np.newaxis, :]\n",
    "print(\"\\n Shape of 2D Array in row major :\",row_b.shape)\n",
    "col_b = b[:, np.newaxis]\n",
    "print(\"\\n Shape of 2D Array in column major :\",col_b.shape)"
   ]
  },
  {
   "cell_type": "code",
   "execution_count": 29,
   "metadata": {},
   "outputs": [],
   "source": [
    "##b)np.expand_dims"
   ]
  },
  {
   "cell_type": "code",
   "execution_count": 30,
   "metadata": {},
   "outputs": [
    {
     "name": "stdout",
     "output_type": "stream",
     "text": [
      "\n",
      " Shape of Array : (25,)\n",
      "\n",
      " Shape of 2D Array in row major : (1, 25)\n",
      "\n",
      " Shape of 2D Array in column major : (25, 1)\n"
     ]
    }
   ],
   "source": [
    "z = np.arange(25)\n",
    "print(\"\\n Shape of Array :\",z.shape)\n",
    "row_z = np.expand_dims(z, axis=0)\n",
    "print(\"\\n Shape of 2D Array in row major :\",row_z.shape)\n",
    "col_z = np.expand_dims(z, axis=1)\n",
    "print(\"\\n Shape of 2D Array in column major :\",col_z.shape)\n"
   ]
  },
  {
   "cell_type": "code",
   "execution_count": 31,
   "metadata": {},
   "outputs": [],
   "source": [
    "## Question 5\n",
    "##a) np.vstack"
   ]
  },
  {
   "cell_type": "code",
   "execution_count": 33,
   "metadata": {},
   "outputs": [
    {
     "data": {
      "text/plain": [
       "array([[10, 20, 30],\n",
       "       [50, 60, 80]])"
      ]
     },
     "execution_count": 33,
     "metadata": {},
     "output_type": "execute_result"
    }
   ],
   "source": [
    "a=[10,20,30]\n",
    "b=[50,60,80]\n",
    "np.vstack((a,b))"
   ]
  },
  {
   "cell_type": "code",
   "execution_count": 35,
   "metadata": {},
   "outputs": [],
   "source": [
    "##b)np.hstack"
   ]
  },
  {
   "cell_type": "code",
   "execution_count": 36,
   "metadata": {},
   "outputs": [
    {
     "data": {
      "text/plain": [
       "array([10, 20, 30, 50, 60, 80])"
      ]
     },
     "execution_count": 36,
     "metadata": {},
     "output_type": "execute_result"
    }
   ],
   "source": [
    "np.hstack((a,b))"
   ]
  },
  {
   "cell_type": "code",
   "execution_count": 37,
   "metadata": {},
   "outputs": [],
   "source": [
    "## Question 6"
   ]
  },
  {
   "cell_type": "code",
   "execution_count": 41,
   "metadata": {},
   "outputs": [
    {
     "data": {
      "text/plain": [
       "array([[   1,    2,    3,    4,    5,    6,    7,    8,    9,   10,   16,\n",
       "          25,  100, 1000],\n",
       "       [   2,    2,    1,    2,    2,    1,    1,    1,    1,    1,    1,\n",
       "           1,    1,    1]], dtype=int64)"
      ]
     },
     "execution_count": 41,
     "metadata": {},
     "output_type": "execute_result"
    }
   ],
   "source": [
    "a = np.array([1, 4, 9, 16, 25, 1, 4, 2, 3, 2, 5, 6, 5, 7, 8, 10,100,1000])\n",
    "np.unique(a,return_counts=True)\n",
    "np.asarray(np.unique(a,return_counts=True))"
   ]
  },
  {
   "cell_type": "code",
   "execution_count": null,
   "metadata": {},
   "outputs": [],
   "source": []
  }
 ],
 "metadata": {
  "kernelspec": {
   "display_name": "Python 3",
   "language": "python",
   "name": "python3"
  },
  "language_info": {
   "codemirror_mode": {
    "name": "ipython",
    "version": 3
   },
   "file_extension": ".py",
   "mimetype": "text/x-python",
   "name": "python",
   "nbconvert_exporter": "python",
   "pygments_lexer": "ipython3",
   "version": "3.7.2"
  }
 },
 "nbformat": 4,
 "nbformat_minor": 4
}
